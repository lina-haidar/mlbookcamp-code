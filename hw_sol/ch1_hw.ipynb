{
  "nbformat": 4,
  "nbformat_minor": 0,
  "metadata": {
    "colab": {
      "name": "ch1_hw.ipynb",
      "provenance": []
    },
    "kernelspec": {
      "name": "python3",
      "display_name": "Python 3"
    },
    "language_info": {
      "name": "python"
    }
  },
  "cells": [
    {
      "cell_type": "markdown",
      "metadata": {
        "id": "KKu-_4vzjYYG"
      },
      "source": [
        "# Lina Haidar\n",
        "# Session 1 Homework\n",
        "# 13.09.2021"
      ]
    },
    {
      "cell_type": "code",
      "metadata": {
        "id": "z0jtvhXXE3uk"
      },
      "source": [
        "import numpy as np\n",
        "import pandas as pd"
      ],
      "execution_count": null,
      "outputs": []
    },
    {
      "cell_type": "markdown",
      "metadata": {
        "id": "fEQBEQYFFAPl"
      },
      "source": [
        "## Question 1\n",
        "\n",
        "What's the version of NumPy that you installed? **answer**: 1.19.5\n",
        "\n",
        "You can get the version information using the __version__ field:"
      ]
    },
    {
      "cell_type": "code",
      "metadata": {
        "colab": {
          "base_uri": "https://localhost:8080/",
          "height": 35
        },
        "id": "v8aQdeXbFBpE",
        "outputId": "6f210ea2-65b2-4ccc-c577-c198ae67fcfe"
      },
      "source": [
        "np.__version__"
      ],
      "execution_count": null,
      "outputs": [
        {
          "output_type": "execute_result",
          "data": {
            "application/vnd.google.colaboratory.intrinsic+json": {
              "type": "string"
            },
            "text/plain": [
              "'1.19.5'"
            ]
          },
          "metadata": {},
          "execution_count": 2
        }
      ]
    },
    {
      "cell_type": "markdown",
      "metadata": {
        "id": "EL8CJxuIFWFB"
      },
      "source": [
        "## Question 2\n",
        "\n",
        "What's the version of Pandas? answer: 1.1.5"
      ]
    },
    {
      "cell_type": "code",
      "metadata": {
        "colab": {
          "base_uri": "https://localhost:8080/",
          "height": 35
        },
        "id": "WWMwt1iSFRsG",
        "outputId": "5c29063b-7556-4603-cee0-7080ca483c4c"
      },
      "source": [
        "pd.__version__"
      ],
      "execution_count": null,
      "outputs": [
        {
          "output_type": "execute_result",
          "data": {
            "application/vnd.google.colaboratory.intrinsic+json": {
              "type": "string"
            },
            "text/plain": [
              "'1.1.5'"
            ]
          },
          "metadata": {},
          "execution_count": 4
        }
      ]
    },
    {
      "cell_type": "markdown",
      "metadata": {
        "id": "ZYjTCIR9GBJv"
      },
      "source": [
        "## Getting the data"
      ]
    },
    {
      "cell_type": "code",
      "metadata": {
        "colab": {
          "base_uri": "https://localhost:8080/"
        },
        "id": "7fOM23yxF2UA",
        "outputId": "394fdc4c-3246-4bc6-c0da-61c5a8cbd085"
      },
      "source": [
        "# to read data in google colab\n",
        "from google.colab import drive\n",
        "drive.mount('/content/drive', force_remount=False)"
      ],
      "execution_count": null,
      "outputs": [
        {
          "output_type": "stream",
          "name": "stdout",
          "text": [
            "Mounted at /content/drive\n"
          ]
        }
      ]
    },
    {
      "cell_type": "code",
      "metadata": {
        "id": "IOm6J1JyG6e4"
      },
      "source": [
        "data = pd.read_csv('/content/drive/MyDrive/Colab Notebooks/zoomcamp/data_car_price/data.csv')"
      ],
      "execution_count": null,
      "outputs": []
    },
    {
      "cell_type": "code",
      "metadata": {
        "colab": {
          "base_uri": "https://localhost:8080/",
          "height": 435
        },
        "id": "9IMGLkBDHS3U",
        "outputId": "5397c909-01a9-459c-d60a-a6e8c2c0226e"
      },
      "source": [
        "data.head()"
      ],
      "execution_count": null,
      "outputs": [
        {
          "output_type": "execute_result",
          "data": {
            "text/html": [
              "<div>\n",
              "<style scoped>\n",
              "    .dataframe tbody tr th:only-of-type {\n",
              "        vertical-align: middle;\n",
              "    }\n",
              "\n",
              "    .dataframe tbody tr th {\n",
              "        vertical-align: top;\n",
              "    }\n",
              "\n",
              "    .dataframe thead th {\n",
              "        text-align: right;\n",
              "    }\n",
              "</style>\n",
              "<table border=\"1\" class=\"dataframe\">\n",
              "  <thead>\n",
              "    <tr style=\"text-align: right;\">\n",
              "      <th></th>\n",
              "      <th>Make</th>\n",
              "      <th>Model</th>\n",
              "      <th>Year</th>\n",
              "      <th>Engine Fuel Type</th>\n",
              "      <th>Engine HP</th>\n",
              "      <th>Engine Cylinders</th>\n",
              "      <th>Transmission Type</th>\n",
              "      <th>Driven_Wheels</th>\n",
              "      <th>Number of Doors</th>\n",
              "      <th>Market Category</th>\n",
              "      <th>Vehicle Size</th>\n",
              "      <th>Vehicle Style</th>\n",
              "      <th>highway MPG</th>\n",
              "      <th>city mpg</th>\n",
              "      <th>Popularity</th>\n",
              "      <th>MSRP</th>\n",
              "    </tr>\n",
              "  </thead>\n",
              "  <tbody>\n",
              "    <tr>\n",
              "      <th>0</th>\n",
              "      <td>BMW</td>\n",
              "      <td>1 Series M</td>\n",
              "      <td>2011</td>\n",
              "      <td>premium unleaded (required)</td>\n",
              "      <td>335.0</td>\n",
              "      <td>6.0</td>\n",
              "      <td>MANUAL</td>\n",
              "      <td>rear wheel drive</td>\n",
              "      <td>2.0</td>\n",
              "      <td>Factory Tuner,Luxury,High-Performance</td>\n",
              "      <td>Compact</td>\n",
              "      <td>Coupe</td>\n",
              "      <td>26</td>\n",
              "      <td>19</td>\n",
              "      <td>3916</td>\n",
              "      <td>46135</td>\n",
              "    </tr>\n",
              "    <tr>\n",
              "      <th>1</th>\n",
              "      <td>BMW</td>\n",
              "      <td>1 Series</td>\n",
              "      <td>2011</td>\n",
              "      <td>premium unleaded (required)</td>\n",
              "      <td>300.0</td>\n",
              "      <td>6.0</td>\n",
              "      <td>MANUAL</td>\n",
              "      <td>rear wheel drive</td>\n",
              "      <td>2.0</td>\n",
              "      <td>Luxury,Performance</td>\n",
              "      <td>Compact</td>\n",
              "      <td>Convertible</td>\n",
              "      <td>28</td>\n",
              "      <td>19</td>\n",
              "      <td>3916</td>\n",
              "      <td>40650</td>\n",
              "    </tr>\n",
              "    <tr>\n",
              "      <th>2</th>\n",
              "      <td>BMW</td>\n",
              "      <td>1 Series</td>\n",
              "      <td>2011</td>\n",
              "      <td>premium unleaded (required)</td>\n",
              "      <td>300.0</td>\n",
              "      <td>6.0</td>\n",
              "      <td>MANUAL</td>\n",
              "      <td>rear wheel drive</td>\n",
              "      <td>2.0</td>\n",
              "      <td>Luxury,High-Performance</td>\n",
              "      <td>Compact</td>\n",
              "      <td>Coupe</td>\n",
              "      <td>28</td>\n",
              "      <td>20</td>\n",
              "      <td>3916</td>\n",
              "      <td>36350</td>\n",
              "    </tr>\n",
              "    <tr>\n",
              "      <th>3</th>\n",
              "      <td>BMW</td>\n",
              "      <td>1 Series</td>\n",
              "      <td>2011</td>\n",
              "      <td>premium unleaded (required)</td>\n",
              "      <td>230.0</td>\n",
              "      <td>6.0</td>\n",
              "      <td>MANUAL</td>\n",
              "      <td>rear wheel drive</td>\n",
              "      <td>2.0</td>\n",
              "      <td>Luxury,Performance</td>\n",
              "      <td>Compact</td>\n",
              "      <td>Coupe</td>\n",
              "      <td>28</td>\n",
              "      <td>18</td>\n",
              "      <td>3916</td>\n",
              "      <td>29450</td>\n",
              "    </tr>\n",
              "    <tr>\n",
              "      <th>4</th>\n",
              "      <td>BMW</td>\n",
              "      <td>1 Series</td>\n",
              "      <td>2011</td>\n",
              "      <td>premium unleaded (required)</td>\n",
              "      <td>230.0</td>\n",
              "      <td>6.0</td>\n",
              "      <td>MANUAL</td>\n",
              "      <td>rear wheel drive</td>\n",
              "      <td>2.0</td>\n",
              "      <td>Luxury</td>\n",
              "      <td>Compact</td>\n",
              "      <td>Convertible</td>\n",
              "      <td>28</td>\n",
              "      <td>18</td>\n",
              "      <td>3916</td>\n",
              "      <td>34500</td>\n",
              "    </tr>\n",
              "  </tbody>\n",
              "</table>\n",
              "</div>"
            ],
            "text/plain": [
              "  Make       Model  Year  ... city mpg  Popularity   MSRP\n",
              "0  BMW  1 Series M  2011  ...       19        3916  46135\n",
              "1  BMW    1 Series  2011  ...       19        3916  40650\n",
              "2  BMW    1 Series  2011  ...       20        3916  36350\n",
              "3  BMW    1 Series  2011  ...       18        3916  29450\n",
              "4  BMW    1 Series  2011  ...       18        3916  34500\n",
              "\n",
              "[5 rows x 16 columns]"
            ]
          },
          "metadata": {},
          "execution_count": 19
        }
      ]
    },
    {
      "cell_type": "code",
      "metadata": {
        "id": "CIB8bwdaHVYW"
      },
      "source": [
        ""
      ],
      "execution_count": null,
      "outputs": []
    },
    {
      "cell_type": "markdown",
      "metadata": {
        "id": "Q1VQ7TliHdli"
      },
      "source": [
        "## Question 3\n",
        "\n",
        "What's the average price of BMW cars in the dataset? **answer**: 61546.76347305389\n",
        "\n",
        "**MSRP**: Manufacturer's Suggested Retail Price"
      ]
    },
    {
      "cell_type": "code",
      "metadata": {
        "colab": {
          "base_uri": "https://localhost:8080/"
        },
        "id": "Mcj9CDcTHfYX",
        "outputId": "fe62207d-f051-4b46-9aac-ca875f73c35e"
      },
      "source": [
        "data['Make'].unique()"
      ],
      "execution_count": null,
      "outputs": [
        {
          "output_type": "execute_result",
          "data": {
            "text/plain": [
              "array(['BMW', 'Audi', 'FIAT', 'Mercedes-Benz', 'Chrysler', 'Nissan',\n",
              "       'Volvo', 'Mazda', 'Mitsubishi', 'Ferrari', 'Alfa Romeo', 'Toyota',\n",
              "       'McLaren', 'Maybach', 'Pontiac', 'Porsche', 'Saab', 'GMC',\n",
              "       'Hyundai', 'Plymouth', 'Honda', 'Oldsmobile', 'Suzuki', 'Ford',\n",
              "       'Cadillac', 'Kia', 'Bentley', 'Chevrolet', 'Dodge', 'Lamborghini',\n",
              "       'Lincoln', 'Subaru', 'Volkswagen', 'Spyker', 'Buick', 'Acura',\n",
              "       'Rolls-Royce', 'Maserati', 'Lexus', 'Aston Martin', 'Land Rover',\n",
              "       'Lotus', 'Infiniti', 'Scion', 'Genesis', 'HUMMER', 'Tesla',\n",
              "       'Bugatti'], dtype=object)"
            ]
          },
          "metadata": {},
          "execution_count": 20
        }
      ]
    },
    {
      "cell_type": "code",
      "metadata": {
        "colab": {
          "base_uri": "https://localhost:8080/"
        },
        "id": "xHLWD153JZVk",
        "outputId": "ce738705-7b9c-4bb6-9ba0-80fc320387e9"
      },
      "source": [
        "data.query('Make == \"BMW\"')['MSRP'].isna().sum()"
      ],
      "execution_count": null,
      "outputs": [
        {
          "output_type": "execute_result",
          "data": {
            "text/plain": [
              "0"
            ]
          },
          "metadata": {},
          "execution_count": 21
        }
      ]
    },
    {
      "cell_type": "code",
      "metadata": {
        "colab": {
          "base_uri": "https://localhost:8080/"
        },
        "id": "W2pLghiTIVgi",
        "outputId": "a2f20f67-4a62-4f7a-f78b-7d710e9f4da3"
      },
      "source": [
        "data.query('Make == \"BMW\"')['MSRP'].mean()"
      ],
      "execution_count": null,
      "outputs": [
        {
          "output_type": "execute_result",
          "data": {
            "text/plain": [
              "61546.76347305389"
            ]
          },
          "metadata": {},
          "execution_count": 22
        }
      ]
    },
    {
      "cell_type": "markdown",
      "metadata": {
        "id": "RsJhWL9fJRUX"
      },
      "source": [
        "## Question 4\n",
        "\n",
        "Select a subset of cars after year 2015 (inclusive, i.e. 2015 and after). How many of them have missing values for Engine HP? **answer**: 51"
      ]
    },
    {
      "cell_type": "code",
      "metadata": {
        "colab": {
          "base_uri": "https://localhost:8080/"
        },
        "id": "rgManp6hJS2H",
        "outputId": "7b55975d-9ff9-4ec8-8bc7-6a7ad9bdac13"
      },
      "source": [
        "data.query('Year >= 2015')['Engine HP'].isna().sum()"
      ],
      "execution_count": null,
      "outputs": [
        {
          "output_type": "execute_result",
          "data": {
            "text/plain": [
              "51"
            ]
          },
          "metadata": {},
          "execution_count": 28
        }
      ]
    },
    {
      "cell_type": "code",
      "metadata": {
        "id": "3fV_Y7VMJ16t"
      },
      "source": [
        ""
      ],
      "execution_count": null,
      "outputs": []
    },
    {
      "cell_type": "markdown",
      "metadata": {
        "id": "4lnlRIKoKc-V"
      },
      "source": [
        "## Question 5\n",
        "\n",
        "* Calculate the average \"Engine HP\" in the dataset. **Answer**: 249.39\n",
        "* Use the fillna method and to fill the missing values in \"Engine HP\" with the mean value from the previous step.\n",
        "* Now, calcualte the average of \"Engine HP\" again. **Answer**: 249.39\n",
        "* Has it changed? **Answer**: No\n",
        "\n",
        "\n",
        "\n"
      ]
    },
    {
      "cell_type": "code",
      "metadata": {
        "colab": {
          "base_uri": "https://localhost:8080/"
        },
        "id": "s3N83jaRKkdw",
        "outputId": "36986b43-c519-4fa1-94e0-60ff33d1a192"
      },
      "source": [
        "mean_hp_before = round( data['Engine HP'].mean() , 2)\n",
        "mean_hp_before"
      ],
      "execution_count": null,
      "outputs": [
        {
          "output_type": "execute_result",
          "data": {
            "text/plain": [
              "249.39"
            ]
          },
          "metadata": {},
          "execution_count": 38
        }
      ]
    },
    {
      "cell_type": "code",
      "metadata": {
        "colab": {
          "base_uri": "https://localhost:8080/"
        },
        "id": "5Jh3hSFhMc2T",
        "outputId": "cd23879a-600a-4835-afd4-21700a65c392"
      },
      "source": [
        "# check missing values \n",
        "data['Engine HP'].isna().sum()"
      ],
      "execution_count": null,
      "outputs": [
        {
          "output_type": "execute_result",
          "data": {
            "text/plain": [
              "69"
            ]
          },
          "metadata": {},
          "execution_count": 44
        }
      ]
    },
    {
      "cell_type": "code",
      "metadata": {
        "id": "WEcR4YThK3GK"
      },
      "source": [
        "data['Engine HP'].fillna(mean_hp_before, inplace = True)"
      ],
      "execution_count": null,
      "outputs": []
    },
    {
      "cell_type": "code",
      "metadata": {
        "colab": {
          "base_uri": "https://localhost:8080/"
        },
        "id": "xsJpm7vALhxx",
        "outputId": "47b6707e-7c92-4a30-c3ec-dee2cfd29e61"
      },
      "source": [
        "# check missing values again\n",
        "data['Engine HP'].isna().sum()"
      ],
      "execution_count": null,
      "outputs": [
        {
          "output_type": "execute_result",
          "data": {
            "text/plain": [
              "0"
            ]
          },
          "metadata": {},
          "execution_count": 46
        }
      ]
    },
    {
      "cell_type": "code",
      "metadata": {
        "colab": {
          "base_uri": "https://localhost:8080/"
        },
        "id": "nBZx24aFLs8n",
        "outputId": "d75b8962-ee40-43d5-a3f5-40149678daee"
      },
      "source": [
        "# find average after filling the missing values \n",
        "mean_hp_after = round( data['Engine HP'].mean() , 2)\n",
        "mean_hp_after"
      ],
      "execution_count": null,
      "outputs": [
        {
          "output_type": "execute_result",
          "data": {
            "text/plain": [
              "249.39"
            ]
          },
          "metadata": {},
          "execution_count": 48
        }
      ]
    },
    {
      "cell_type": "markdown",
      "metadata": {
        "id": "aAxrCj4eM-jY"
      },
      "source": [
        "## Question 6\n",
        "\n",
        "* Select all the \"Rolls-Royce\" cars from the dataset.\n",
        "* Select only columns \"Engine HP\", \"Engine Cylinders\", \"highway MPG\".\n",
        "* Now drop all duplicated rows using drop_duplicates method (you should get a dataframe with 7 rows).\n",
        "* Get the underlying NumPy array. Let's call it X.\n",
        "* Compute matrix-matrix multiplication between the transpose of X and X. To get the transpose, use X.T. Let's call the result XTX.\n",
        "* Invert XTX.\n",
        "* What's the sum of all the elements of the result?\n",
        "\n",
        "Hint: if the result is negative, re-read the task one more time"
      ]
    },
    {
      "cell_type": "markdown",
      "metadata": {
        "id": "vp8_b2x6W5N3"
      },
      "source": [
        "## NOTE: \n",
        "There are no duplicates in \"Rolls-Royce\" cars. I don't get a dataframe with 7 rows! "
      ]
    },
    {
      "cell_type": "code",
      "metadata": {
        "colab": {
          "base_uri": "https://localhost:8080/",
          "height": 168
        },
        "id": "a63o-55NWzjo",
        "outputId": "67161a2d-71d7-4881-ff88-4e3e6ac24c07"
      },
      "source": [
        "data.loc[data['Make'] == \"Rolls-Royce\" ].duplicated().sum()"
      ],
      "execution_count": 1,
      "outputs": [
        {
          "output_type": "error",
          "ename": "NameError",
          "evalue": "ignored",
          "traceback": [
            "\u001b[0;31m---------------------------------------------------------------------------\u001b[0m",
            "\u001b[0;31mNameError\u001b[0m                                 Traceback (most recent call last)",
            "\u001b[0;32m<ipython-input-1-a503d1ddf980>\u001b[0m in \u001b[0;36m<module>\u001b[0;34m()\u001b[0m\n\u001b[0;32m----> 1\u001b[0;31m \u001b[0mdata\u001b[0m\u001b[0;34m.\u001b[0m\u001b[0mloc\u001b[0m\u001b[0;34m[\u001b[0m\u001b[0mdata\u001b[0m\u001b[0;34m[\u001b[0m\u001b[0;34m'Make'\u001b[0m\u001b[0;34m]\u001b[0m \u001b[0;34m==\u001b[0m \u001b[0;34m\"Rolls-Royce\"\u001b[0m \u001b[0;34m]\u001b[0m\u001b[0;34m.\u001b[0m\u001b[0mduplicated\u001b[0m\u001b[0;34m(\u001b[0m\u001b[0;34m)\u001b[0m\u001b[0;34m.\u001b[0m\u001b[0msum\u001b[0m\u001b[0;34m(\u001b[0m\u001b[0;34m)\u001b[0m\u001b[0;34m\u001b[0m\u001b[0;34m\u001b[0m\u001b[0m\n\u001b[0m",
            "\u001b[0;31mNameError\u001b[0m: name 'data' is not defined"
          ]
        }
      ]
    },
    {
      "cell_type": "code",
      "metadata": {
        "id": "Ntw9yEvHNW1e"
      },
      "source": [
        "data.loc[data['Make'] == \"Rolls-Royce\" ][['Engine HP', 'Engine Cylinders', 'highway MPG']].shape"
      ],
      "execution_count": null,
      "outputs": []
    },
    {
      "cell_type": "code",
      "metadata": {
        "id": "TrWzTyzBNt-P"
      },
      "source": [
        "data.loc[data['Make'] == \"Rolls-Royce\" ][['Engine HP', 'Engine Cylinders', 'highway MPG']].drop_duplicates(inplace = True )"
      ],
      "execution_count": null,
      "outputs": []
    },
    {
      "cell_type": "code",
      "metadata": {
        "id": "Mjn03TaCOVxG"
      },
      "source": [
        "data.loc[data['Make'] == \"Rolls-Royce\" ][['Engine HP', 'Engine Cylinders', 'highway MPG']].shape"
      ],
      "execution_count": null,
      "outputs": []
    },
    {
      "cell_type": "markdown",
      "metadata": {
        "id": "zvaHK4fcX7_m"
      },
      "source": [
        "* Get the underlying NumPy array. Let's call it X."
      ]
    },
    {
      "cell_type": "code",
      "metadata": {
        "id": "34WBjeTdX8tW"
      },
      "source": [
        "X = data.loc[data['Make'] == \"Rolls-Royce\" ][['Engine HP', 'Engine Cylinders', 'highway MPG']]"
      ],
      "execution_count": null,
      "outputs": []
    },
    {
      "cell_type": "markdown",
      "metadata": {
        "id": "hKmB2IbjYKJG"
      },
      "source": [
        "* Compute matrix-matrix multiplication between the transpose of X and X. To get the transpose, use X.T. Let's call the result XTX."
      ]
    },
    {
      "cell_type": "code",
      "metadata": {
        "id": "N-sQ1SagX__9"
      },
      "source": [
        "XTX = X.T.dot(X)"
      ],
      "execution_count": null,
      "outputs": []
    },
    {
      "cell_type": "markdown",
      "metadata": {
        "id": "-XYaVQXwZCCD"
      },
      "source": [
        "* Invert XTX."
      ]
    },
    {
      "cell_type": "code",
      "metadata": {
        "id": "9yXsYBMQYRhL"
      },
      "source": [
        "XTX"
      ],
      "execution_count": null,
      "outputs": []
    },
    {
      "cell_type": "code",
      "metadata": {
        "id": "Xn8H_Z4qc5ZZ"
      },
      "source": [
        "from numpy.linalg import inv"
      ],
      "execution_count": null,
      "outputs": []
    },
    {
      "cell_type": "code",
      "metadata": {
        "id": "7g6i_JMKciYL"
      },
      "source": [
        "inv(XTX.to_numpy())"
      ],
      "execution_count": null,
      "outputs": []
    },
    {
      "cell_type": "markdown",
      "metadata": {
        "id": "j51bvDZZdDt0"
      },
      "source": [
        "* What's the sum of all the elements of the result? **Answer**: 0.008720639166868965"
      ]
    },
    {
      "cell_type": "code",
      "metadata": {
        "id": "cz67U_E9cWXk"
      },
      "source": [
        "inv(XTX.to_numpy()).sum()"
      ],
      "execution_count": null,
      "outputs": []
    },
    {
      "cell_type": "code",
      "metadata": {
        "id": "NpXMcLzRcc5j"
      },
      "source": [
        ""
      ],
      "execution_count": null,
      "outputs": []
    },
    {
      "cell_type": "markdown",
      "metadata": {
        "id": "A-PNLyoidU3z"
      },
      "source": [
        "## Questions 7\n",
        "\n",
        "* Create an array `y` with values `[1000, 1100, 900, 1200, 1000, 850, 1300]`.\n",
        "* Multiply the inverse of `XTX` with the transpose of `X`, and then multiply the result by `y`. Call the result `w`.\n",
        "* What's the value of the first element of `w`?.\n"
      ]
    },
    {
      "cell_type": "code",
      "metadata": {
        "id": "ieMoaXLgdbnf"
      },
      "source": [
        "y = np.array([1000, 1100, 900, 1200, 1000, 850, 1300])"
      ],
      "execution_count": null,
      "outputs": []
    },
    {
      "cell_type": "code",
      "metadata": {
        "colab": {
          "base_uri": "https://localhost:8080/"
        },
        "id": "HkKAdL92dzzE",
        "outputId": "7105a6a3-1fe4-4a67-890e-a0fd7c2799d1"
      },
      "source": [
        "inv(XTX.to_numpy())"
      ],
      "execution_count": null,
      "outputs": [
        {
          "output_type": "execute_result",
          "data": {
            "text/plain": [
              "array([[ 2.57536457e-05,  7.02210013e-04, -1.09352270e-03],\n",
              "       [ 7.02210013e-04,  4.24123405e-02, -4.41299962e-02],\n",
              "       [-1.09352270e-03, -4.41299962e-02,  5.53251629e-02]])"
            ]
          },
          "metadata": {},
          "execution_count": 120
        }
      ]
    },
    {
      "cell_type": "code",
      "metadata": {
        "colab": {
          "base_uri": "https://localhost:8080/",
          "height": 216
        },
        "id": "GQaI6WBteJcy",
        "outputId": "5a4fc7fe-b504-428f-eda8-798b56d6f90a"
      },
      "source": [
        "X.T"
      ],
      "execution_count": null,
      "outputs": [
        {
          "output_type": "execute_result",
          "data": {
            "text/html": [
              "<div>\n",
              "<style scoped>\n",
              "    .dataframe tbody tr th:only-of-type {\n",
              "        vertical-align: middle;\n",
              "    }\n",
              "\n",
              "    .dataframe tbody tr th {\n",
              "        vertical-align: top;\n",
              "    }\n",
              "\n",
              "    .dataframe thead th {\n",
              "        text-align: right;\n",
              "    }\n",
              "</style>\n",
              "<table border=\"1\" class=\"dataframe\">\n",
              "  <thead>\n",
              "    <tr style=\"text-align: right;\">\n",
              "      <th></th>\n",
              "      <th>2921</th>\n",
              "      <th>3505</th>\n",
              "      <th>5275</th>\n",
              "      <th>5276</th>\n",
              "      <th>5277</th>\n",
              "      <th>5278</th>\n",
              "      <th>5279</th>\n",
              "      <th>5280</th>\n",
              "      <th>5281</th>\n",
              "      <th>5282</th>\n",
              "      <th>5283</th>\n",
              "      <th>5284</th>\n",
              "      <th>7443</th>\n",
              "      <th>7444</th>\n",
              "      <th>7553</th>\n",
              "      <th>7554</th>\n",
              "      <th>7555</th>\n",
              "      <th>7556</th>\n",
              "      <th>7557</th>\n",
              "      <th>7558</th>\n",
              "      <th>7559</th>\n",
              "      <th>7560</th>\n",
              "      <th>7561</th>\n",
              "      <th>7562</th>\n",
              "      <th>7563</th>\n",
              "      <th>7564</th>\n",
              "      <th>9431</th>\n",
              "      <th>9432</th>\n",
              "      <th>11448</th>\n",
              "      <th>11449</th>\n",
              "      <th>11450</th>\n",
              "    </tr>\n",
              "  </thead>\n",
              "  <tbody>\n",
              "    <tr>\n",
              "      <th>Engine HP</th>\n",
              "      <td>325.0</td>\n",
              "      <td>563.0</td>\n",
              "      <td>563.0</td>\n",
              "      <td>563.0</td>\n",
              "      <td>563.0</td>\n",
              "      <td>563.0</td>\n",
              "      <td>563.0</td>\n",
              "      <td>563.0</td>\n",
              "      <td>563.0</td>\n",
              "      <td>563.0</td>\n",
              "      <td>563.0</td>\n",
              "      <td>563.0</td>\n",
              "      <td>322.0</td>\n",
              "      <td>322.0</td>\n",
              "      <td>453.0</td>\n",
              "      <td>453.0</td>\n",
              "      <td>453.0</td>\n",
              "      <td>453.0</td>\n",
              "      <td>453.0</td>\n",
              "      <td>453.0</td>\n",
              "      <td>453.0</td>\n",
              "      <td>453.0</td>\n",
              "      <td>453.0</td>\n",
              "      <td>453.0</td>\n",
              "      <td>453.0</td>\n",
              "      <td>453.0</td>\n",
              "      <td>322.0</td>\n",
              "      <td>322.0</td>\n",
              "      <td>624.0</td>\n",
              "      <td>624.0</td>\n",
              "      <td>624.0</td>\n",
              "    </tr>\n",
              "    <tr>\n",
              "      <th>Engine Cylinders</th>\n",
              "      <td>8.0</td>\n",
              "      <td>12.0</td>\n",
              "      <td>12.0</td>\n",
              "      <td>12.0</td>\n",
              "      <td>12.0</td>\n",
              "      <td>12.0</td>\n",
              "      <td>12.0</td>\n",
              "      <td>12.0</td>\n",
              "      <td>12.0</td>\n",
              "      <td>12.0</td>\n",
              "      <td>12.0</td>\n",
              "      <td>12.0</td>\n",
              "      <td>12.0</td>\n",
              "      <td>12.0</td>\n",
              "      <td>12.0</td>\n",
              "      <td>12.0</td>\n",
              "      <td>12.0</td>\n",
              "      <td>12.0</td>\n",
              "      <td>12.0</td>\n",
              "      <td>12.0</td>\n",
              "      <td>12.0</td>\n",
              "      <td>12.0</td>\n",
              "      <td>12.0</td>\n",
              "      <td>12.0</td>\n",
              "      <td>12.0</td>\n",
              "      <td>12.0</td>\n",
              "      <td>12.0</td>\n",
              "      <td>12.0</td>\n",
              "      <td>12.0</td>\n",
              "      <td>12.0</td>\n",
              "      <td>12.0</td>\n",
              "    </tr>\n",
              "    <tr>\n",
              "      <th>highway MPG</th>\n",
              "      <td>15.0</td>\n",
              "      <td>19.0</td>\n",
              "      <td>21.0</td>\n",
              "      <td>21.0</td>\n",
              "      <td>21.0</td>\n",
              "      <td>21.0</td>\n",
              "      <td>20.0</td>\n",
              "      <td>20.0</td>\n",
              "      <td>21.0</td>\n",
              "      <td>21.0</td>\n",
              "      <td>21.0</td>\n",
              "      <td>21.0</td>\n",
              "      <td>15.0</td>\n",
              "      <td>15.0</td>\n",
              "      <td>19.0</td>\n",
              "      <td>19.0</td>\n",
              "      <td>19.0</td>\n",
              "      <td>19.0</td>\n",
              "      <td>19.0</td>\n",
              "      <td>19.0</td>\n",
              "      <td>19.0</td>\n",
              "      <td>19.0</td>\n",
              "      <td>19.0</td>\n",
              "      <td>19.0</td>\n",
              "      <td>19.0</td>\n",
              "      <td>19.0</td>\n",
              "      <td>15.0</td>\n",
              "      <td>15.0</td>\n",
              "      <td>21.0</td>\n",
              "      <td>21.0</td>\n",
              "      <td>21.0</td>\n",
              "    </tr>\n",
              "  </tbody>\n",
              "</table>\n",
              "</div>"
            ],
            "text/plain": [
              "                  2921   3505   5275   5276   ...  9432   11448  11449  11450\n",
              "Engine HP         325.0  563.0  563.0  563.0  ...  322.0  624.0  624.0  624.0\n",
              "Engine Cylinders    8.0   12.0   12.0   12.0  ...   12.0   12.0   12.0   12.0\n",
              "highway MPG        15.0   19.0   21.0   21.0  ...   15.0   21.0   21.0   21.0\n",
              "\n",
              "[3 rows x 31 columns]"
            ]
          },
          "metadata": {},
          "execution_count": 121
        }
      ]
    },
    {
      "cell_type": "code",
      "metadata": {
        "colab": {
          "base_uri": "https://localhost:8080/"
        },
        "id": "Q1qK-case-QC",
        "outputId": "e59d2557-64ac-4d41-a280-5be2f1ef1efb"
      },
      "source": [
        "res1.shape #= np.matmul( inv(XTX.to_numpy()) , X.T.to_numpy() ) "
      ],
      "execution_count": null,
      "outputs": [
        {
          "output_type": "execute_result",
          "data": {
            "text/plain": [
              "(3, 31)"
            ]
          },
          "metadata": {},
          "execution_count": 127
        }
      ]
    },
    {
      "cell_type": "code",
      "metadata": {
        "colab": {
          "base_uri": "https://localhost:8080/",
          "height": 186
        },
        "id": "HvsdkGvVeOuX",
        "outputId": "59e46c11-6e42-4cb4-facf-47ed69062656"
      },
      "source": [
        "np.matmul( res1 , y )"
      ],
      "execution_count": null,
      "outputs": [
        {
          "output_type": "error",
          "ename": "ValueError",
          "evalue": "ignored",
          "traceback": [
            "\u001b[0;31m---------------------------------------------------------------------------\u001b[0m",
            "\u001b[0;31mValueError\u001b[0m                                Traceback (most recent call last)",
            "\u001b[0;32m<ipython-input-125-a1598bbbeed6>\u001b[0m in \u001b[0;36m<module>\u001b[0;34m()\u001b[0m\n\u001b[0;32m----> 1\u001b[0;31m \u001b[0mnp\u001b[0m\u001b[0;34m.\u001b[0m\u001b[0mmatmul\u001b[0m\u001b[0;34m(\u001b[0m \u001b[0mres1\u001b[0m \u001b[0;34m,\u001b[0m \u001b[0my\u001b[0m \u001b[0;34m)\u001b[0m\u001b[0;34m\u001b[0m\u001b[0;34m\u001b[0m\u001b[0m\n\u001b[0m",
            "\u001b[0;31mValueError\u001b[0m: matmul: Input operand 1 has a mismatch in its core dimension 0, with gufunc signature (n?,k),(k,m?)->(n?,m?) (size 7 is different from 31)"
          ]
        }
      ]
    },
    {
      "cell_type": "code",
      "metadata": {
        "id": "4WqMhr5uerfO"
      },
      "source": [
        ""
      ],
      "execution_count": null,
      "outputs": []
    }
  ]
}