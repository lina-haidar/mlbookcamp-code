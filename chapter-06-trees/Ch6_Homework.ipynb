{
  "nbformat": 4,
  "nbformat_minor": 0,
  "metadata": {
    "colab": {
      "name": "Ch6 Homework.ipynb",
      "provenance": []
    },
    "kernelspec": {
      "name": "python3",
      "display_name": "Python 3"
    },
    "language_info": {
      "name": "python"
    }
  },
  "cells": [
    {
      "cell_type": "code",
      "metadata": {
        "colab": {
          "base_uri": "https://localhost:8080/"
        },
        "id": "2W_uqOw1-paE",
        "outputId": "8cb4ab33-f3d7-4274-ce9d-1a5ca3335048"
      },
      "source": [
        "from google.colab import drive\n",
        "drive.mount('/content/drive', force_remount=False)"
      ],
      "execution_count": 1,
      "outputs": [
        {
          "output_type": "stream",
          "name": "stdout",
          "text": [
            "Mounted at /content/drive\n"
          ]
        }
      ]
    },
    {
      "cell_type": "code",
      "metadata": {
        "id": "rTlpi8-e-tX_"
      },
      "source": [
        ""
      ],
      "execution_count": null,
      "outputs": []
    },
    {
      "cell_type": "markdown",
      "metadata": {
        "id": "NinB4Y_SAJmH"
      },
      "source": [
        "## 6.10 Homework\n",
        "\n",
        "The goal of this homework is to create a tree-based regression model for prediction apartment prices (column `'price'`).\n",
        "\n",
        "In this homework we'll again use the New York City Airbnb Open Data dataset - the same one we used in homework 2 and 3.\n",
        "\n",
        "You can take it from [Kaggle](https://www.kaggle.com/dgomonov/new-york-city-airbnb-open-data?select=AB_NYC_2019.csv)\n",
        "or download from [here](https://raw.githubusercontent.com/alexeygrigorev/datasets/master/AB_NYC_2019.csv)\n",
        "if you don't want to sign up to Kaggle.\n"
      ]
    },
    {
      "cell_type": "code",
      "metadata": {
        "id": "c56WUlghAKJV"
      },
      "source": [
        "\n",
        "import pandas as pd\n",
        "import numpy as np\n",
        "\n",
        "import matplotlib.pyplot as plt\n",
        "import seaborn as sns\n",
        "\n",
        "%matplotlib inline\n",
        "\n"
      ],
      "execution_count": 2,
      "outputs": []
    },
    {
      "cell_type": "code",
      "metadata": {
        "id": "VB7GSJg3AWge"
      },
      "source": [
        "columns = [\n",
        "    'neighbourhood_group', 'room_type', 'latitude', 'longitude',\n",
        "    'minimum_nights', 'number_of_reviews','reviews_per_month',\n",
        "    'calculated_host_listings_count', 'availability_365',\n",
        "    'price'\n",
        "]\n",
        "\n",
        "df = pd.read_csv('/content/drive/MyDrive/bookcamp/AB_NYC_2019.csv', usecols=columns)\n",
        "df.reviews_per_month = df.reviews_per_month.fillna(0)"
      ],
      "execution_count": 3,
      "outputs": []
    },
    {
      "cell_type": "code",
      "metadata": {
        "id": "vytNgsVUAbMo",
        "colab": {
          "base_uri": "https://localhost:8080/",
          "height": 313
        },
        "outputId": "cb864a5e-114d-4819-d9bf-32b6b6136104"
      },
      "source": [
        "df.head()"
      ],
      "execution_count": null,
      "outputs": [
        {
          "output_type": "execute_result",
          "data": {
            "text/html": [
              "<div>\n",
              "<style scoped>\n",
              "    .dataframe tbody tr th:only-of-type {\n",
              "        vertical-align: middle;\n",
              "    }\n",
              "\n",
              "    .dataframe tbody tr th {\n",
              "        vertical-align: top;\n",
              "    }\n",
              "\n",
              "    .dataframe thead th {\n",
              "        text-align: right;\n",
              "    }\n",
              "</style>\n",
              "<table border=\"1\" class=\"dataframe\">\n",
              "  <thead>\n",
              "    <tr style=\"text-align: right;\">\n",
              "      <th></th>\n",
              "      <th>neighbourhood_group</th>\n",
              "      <th>latitude</th>\n",
              "      <th>longitude</th>\n",
              "      <th>room_type</th>\n",
              "      <th>price</th>\n",
              "      <th>minimum_nights</th>\n",
              "      <th>number_of_reviews</th>\n",
              "      <th>reviews_per_month</th>\n",
              "      <th>calculated_host_listings_count</th>\n",
              "      <th>availability_365</th>\n",
              "    </tr>\n",
              "  </thead>\n",
              "  <tbody>\n",
              "    <tr>\n",
              "      <th>0</th>\n",
              "      <td>Brooklyn</td>\n",
              "      <td>40.64749</td>\n",
              "      <td>-73.97237</td>\n",
              "      <td>Private room</td>\n",
              "      <td>149</td>\n",
              "      <td>1</td>\n",
              "      <td>9</td>\n",
              "      <td>0.21</td>\n",
              "      <td>6</td>\n",
              "      <td>365</td>\n",
              "    </tr>\n",
              "    <tr>\n",
              "      <th>1</th>\n",
              "      <td>Manhattan</td>\n",
              "      <td>40.75362</td>\n",
              "      <td>-73.98377</td>\n",
              "      <td>Entire home/apt</td>\n",
              "      <td>225</td>\n",
              "      <td>1</td>\n",
              "      <td>45</td>\n",
              "      <td>0.38</td>\n",
              "      <td>2</td>\n",
              "      <td>355</td>\n",
              "    </tr>\n",
              "    <tr>\n",
              "      <th>2</th>\n",
              "      <td>Manhattan</td>\n",
              "      <td>40.80902</td>\n",
              "      <td>-73.94190</td>\n",
              "      <td>Private room</td>\n",
              "      <td>150</td>\n",
              "      <td>3</td>\n",
              "      <td>0</td>\n",
              "      <td>0.00</td>\n",
              "      <td>1</td>\n",
              "      <td>365</td>\n",
              "    </tr>\n",
              "    <tr>\n",
              "      <th>3</th>\n",
              "      <td>Brooklyn</td>\n",
              "      <td>40.68514</td>\n",
              "      <td>-73.95976</td>\n",
              "      <td>Entire home/apt</td>\n",
              "      <td>89</td>\n",
              "      <td>1</td>\n",
              "      <td>270</td>\n",
              "      <td>4.64</td>\n",
              "      <td>1</td>\n",
              "      <td>194</td>\n",
              "    </tr>\n",
              "    <tr>\n",
              "      <th>4</th>\n",
              "      <td>Manhattan</td>\n",
              "      <td>40.79851</td>\n",
              "      <td>-73.94399</td>\n",
              "      <td>Entire home/apt</td>\n",
              "      <td>80</td>\n",
              "      <td>10</td>\n",
              "      <td>9</td>\n",
              "      <td>0.10</td>\n",
              "      <td>1</td>\n",
              "      <td>0</td>\n",
              "    </tr>\n",
              "  </tbody>\n",
              "</table>\n",
              "</div>"
            ],
            "text/plain": [
              "  neighbourhood_group  ...  availability_365\n",
              "0            Brooklyn  ...               365\n",
              "1           Manhattan  ...               355\n",
              "2           Manhattan  ...               365\n",
              "3            Brooklyn  ...               194\n",
              "4           Manhattan  ...                 0\n",
              "\n",
              "[5 rows x 10 columns]"
            ]
          },
          "metadata": {},
          "execution_count": 56
        }
      ]
    },
    {
      "cell_type": "code",
      "metadata": {
        "id": "Y4jN_yuOBhJB"
      },
      "source": [
        ""
      ],
      "execution_count": null,
      "outputs": []
    },
    {
      "cell_type": "markdown",
      "metadata": {
        "id": "hgPaWjX-DTiF"
      },
      "source": [
        "\n",
        "\n",
        "* Apply the log tranform to price\n",
        "* Do train/validation/test split with 60%/20%/20% distribution.\n",
        "* Use the train_test_split function and set the random_state parameter to 1\n",
        "\n"
      ]
    },
    {
      "cell_type": "code",
      "metadata": {
        "id": "_app8YeSDJK8"
      },
      "source": [
        "df['price'] =  np.log1p(df['price']) "
      ],
      "execution_count": 4,
      "outputs": []
    },
    {
      "cell_type": "code",
      "metadata": {
        "id": "AcrZ2hPhDeiF"
      },
      "source": [
        "from sklearn.model_selection import train_test_split"
      ],
      "execution_count": 5,
      "outputs": []
    },
    {
      "cell_type": "code",
      "metadata": {
        "id": "lJ8Ge2BTDo5A"
      },
      "source": [
        "df_train_full, df_test = train_test_split(df, test_size=0.2, random_state=1)\n",
        "df_train, df_val = train_test_split(df_train_full, test_size=0.25, random_state=1)\n"
      ],
      "execution_count": 6,
      "outputs": []
    },
    {
      "cell_type": "code",
      "metadata": {
        "id": "MC8hy1D8GtEC"
      },
      "source": [
        "\n",
        "y_train = df_train.price.values\n",
        "y_val = df_val.price.values\n"
      ],
      "execution_count": 7,
      "outputs": []
    },
    {
      "cell_type": "code",
      "metadata": {
        "id": "7-gpz3pVJf0Z"
      },
      "source": [
        "del df_train['price']\n",
        "del df_val['price']\n"
      ],
      "execution_count": 8,
      "outputs": []
    },
    {
      "cell_type": "code",
      "metadata": {
        "colab": {
          "base_uri": "https://localhost:8080/"
        },
        "id": "lpnOPbrFJBRu",
        "outputId": "b58e907c-8871-44a5-83e7-22a4b42448cf"
      },
      "source": [
        "y_train"
      ],
      "execution_count": null,
      "outputs": [
        {
          "output_type": "execute_result",
          "data": {
            "text/plain": [
              "array([4.7095302 , 4.26267988, 6.13339804, ..., 3.93182563, 5.52545294,\n",
              "       5.39362755])"
            ]
          },
          "metadata": {},
          "execution_count": 62
        }
      ]
    },
    {
      "cell_type": "markdown",
      "metadata": {
        "id": "9uWt-vesD4WO"
      },
      "source": [
        "\n",
        "* Now, use DictVectorizer to turn train and validation into matrices:\n"
      ]
    },
    {
      "cell_type": "code",
      "metadata": {
        "id": "MK-1-SLxD0GU"
      },
      "source": [
        "from sklearn.feature_extraction import DictVectorizer"
      ],
      "execution_count": 9,
      "outputs": []
    },
    {
      "cell_type": "code",
      "metadata": {
        "id": "vKwU9aMOFH7v"
      },
      "source": [
        "\n",
        "\n",
        "dict_train = df_train.to_dict(orient='records')\n",
        "dict_val = df_val.to_dict(orient='records')\n",
        "\n"
      ],
      "execution_count": 10,
      "outputs": []
    },
    {
      "cell_type": "code",
      "metadata": {
        "id": "g4ehsY9cEEOT"
      },
      "source": [
        "dv = DictVectorizer(sparse=False)\n",
        "\n",
        "X_train = dv.fit_transform(dict_train)\n",
        "X_val = dv.transform(dict_val)\n",
        "\n"
      ],
      "execution_count": 11,
      "outputs": []
    },
    {
      "cell_type": "code",
      "metadata": {
        "colab": {
          "base_uri": "https://localhost:8080/"
        },
        "id": "0WRRR7lCRJfb",
        "outputId": "2d5f839b-3407-42e1-82c7-00ecede46a93"
      },
      "source": [
        "X_train[1]"
      ],
      "execution_count": null,
      "outputs": [
        {
          "output_type": "execute_result",
          "data": {
            "text/plain": [
              "array([  0.     ,   1.     ,  40.73442, -73.95854,   5.     ,   0.     ,\n",
              "         1.     ,   0.     ,   0.     ,   0.     ,   2.     ,   0.16   ,\n",
              "         0.     ,   1.     ,   0.     ])"
            ]
          },
          "metadata": {},
          "execution_count": 79
        }
      ]
    },
    {
      "cell_type": "markdown",
      "metadata": {
        "id": "S31ljoJIF5Y6"
      },
      "source": [
        "\n",
        "## Question 1\n",
        "\n",
        "Let's train a decision tree regressor to predict the price variable.\n",
        "\n",
        "* Train a model with max_depth=1\n",
        "\n"
      ]
    },
    {
      "cell_type": "code",
      "metadata": {
        "id": "sPc7fsHSE-8c"
      },
      "source": [
        "from sklearn.tree import DecisionTreeRegressor\n",
        "from sklearn.metrics import roc_auc_score"
      ],
      "execution_count": 14,
      "outputs": []
    },
    {
      "cell_type": "code",
      "metadata": {
        "colab": {
          "base_uri": "https://localhost:8080/"
        },
        "id": "W0nGmQw8F0px",
        "outputId": "0fee68f2-da6a-4a0e-8220-09917f7c05ea"
      },
      "source": [
        "dt = DecisionTreeRegressor(max_depth=1)\n",
        "dt.fit(X_train, y_train)\n"
      ],
      "execution_count": null,
      "outputs": [
        {
          "output_type": "execute_result",
          "data": {
            "text/plain": [
              "DecisionTreeRegressor(ccp_alpha=0.0, criterion='mse', max_depth=1,\n",
              "                      max_features=None, max_leaf_nodes=None,\n",
              "                      min_impurity_decrease=0.0, min_impurity_split=None,\n",
              "                      min_samples_leaf=1, min_samples_split=2,\n",
              "                      min_weight_fraction_leaf=0.0, presort='deprecated',\n",
              "                      random_state=None, splitter='best')"
            ]
          },
          "metadata": {},
          "execution_count": 81
        }
      ]
    },
    {
      "cell_type": "markdown",
      "metadata": {
        "id": "AAafF_-eJ3xd"
      },
      "source": [
        "\n",
        "\n",
        "Which feature is used for splitting the data?\n",
        "\n",
        "* room_type\n",
        "* neighbourhood_group\n",
        "* number_of_reviews\n",
        "* reviews_per_month\n",
        "\n"
      ]
    },
    {
      "cell_type": "code",
      "metadata": {
        "id": "lkHMj1IBGHFx"
      },
      "source": [
        "from sklearn import tree"
      ],
      "execution_count": 15,
      "outputs": []
    },
    {
      "cell_type": "code",
      "metadata": {
        "colab": {
          "base_uri": "https://localhost:8080/",
          "height": 466
        },
        "id": "0t8cKl8YK-q0",
        "outputId": "b5c263ae-1769-462a-d9c1-2f07003c0542"
      },
      "source": [
        "fig = plt.figure(figsize=(10,8))\n",
        "_ = tree.plot_tree(dt)\n"
      ],
      "execution_count": null,
      "outputs": [
        {
          "output_type": "display_data",
          "data": {
            "image/png": "[encoded data removed]",
            "text/plain": [
              "<Figure size 720x576 with 1 Axes>"
            ]
          },
          "metadata": {
            "needs_background": "light"
          }
        }
      ]
    },
    {
      "cell_type": "code",
      "metadata": {
        "colab": {
          "base_uri": "https://localhost:8080/"
        },
        "id": "Jf5Fr0odLJMk",
        "outputId": "0694ed75-3387-4da6-9413-a5588b2fa1c8"
      },
      "source": [
        "X_train[385]"
      ],
      "execution_count": null,
      "outputs": [
        {
          "output_type": "execute_result",
          "data": {
            "text/plain": [
              "array([  0.     ,   1.     ,  40.70821, -73.94719,   2.     ,   0.     ,\n",
              "         1.     ,   0.     ,   0.     ,   0.     ,   9.     ,   0.25   ,\n",
              "         0.     ,   1.     ,   0.     ])"
            ]
          },
          "metadata": {},
          "execution_count": 136
        }
      ]
    },
    {
      "cell_type": "code",
      "metadata": {
        "colab": {
          "base_uri": "https://localhost:8080/"
        },
        "id": "0FHemc14TI2X",
        "outputId": "501783c2-e268-4e85-e89a-670aad95f2c4"
      },
      "source": [
        "dict_train[385]\n"
      ],
      "execution_count": null,
      "outputs": [
        {
          "output_type": "execute_result",
          "data": {
            "text/plain": [
              "{'availability_365': 0,\n",
              " 'calculated_host_listings_count': 1,\n",
              " 'latitude': 40.70821,\n",
              " 'longitude': -73.94719,\n",
              " 'minimum_nights': 2,\n",
              " 'neighbourhood_group': 'Brooklyn',\n",
              " 'number_of_reviews': 9,\n",
              " 'reviews_per_month': 0.25,\n",
              " 'room_type': 'Private room'}"
            ]
          },
          "metadata": {},
          "execution_count": 98
        }
      ]
    },
    {
      "cell_type": "markdown",
      "metadata": {
        "id": "2MN0wz_NdSe5"
      },
      "source": [
        "## ANS: room type"
      ]
    },
    {
      "cell_type": "code",
      "metadata": {
        "id": "E7XdPPxdTV5W"
      },
      "source": [
        ""
      ],
      "execution_count": null,
      "outputs": []
    },
    {
      "cell_type": "markdown",
      "metadata": {
        "id": "mkXOqr7SfiWh"
      },
      "source": [
        "\n",
        "## Question 2\n",
        "\n",
        "Train a random forest model with these parameters:\n",
        "\n",
        "* n_estimators=10\n",
        "* random_state=1\n",
        "* n_jobs=-1 (optional - to make training faster)\n",
        "\n"
      ]
    },
    {
      "cell_type": "code",
      "metadata": {
        "id": "KEDDiZ_qgOCC"
      },
      "source": [
        "from sklearn.ensemble import RandomForestRegressor"
      ],
      "execution_count": 30,
      "outputs": []
    },
    {
      "cell_type": "code",
      "metadata": {
        "colab": {
          "base_uri": "https://localhost:8080/"
        },
        "id": "hWs6RQZefm8n",
        "outputId": "99f927ff-225a-4ca0-a342-ed2adf51c3e0"
      },
      "source": [
        "rf = RandomForestRegressor(n_estimators=10, random_state=1, n_jobs=-1 )\n",
        "rf.fit(X_train, y_train)"
      ],
      "execution_count": 31,
      "outputs": [
        {
          "output_type": "execute_result",
          "data": {
            "text/plain": [
              "RandomForestRegressor(bootstrap=True, ccp_alpha=0.0, criterion='mse',\n",
              "                      max_depth=None, max_features='auto', max_leaf_nodes=None,\n",
              "                      max_samples=None, min_impurity_decrease=0.0,\n",
              "                      min_impurity_split=None, min_samples_leaf=1,\n",
              "                      min_samples_split=2, min_weight_fraction_leaf=0.0,\n",
              "                      n_estimators=10, n_jobs=-1, oob_score=False,\n",
              "                      random_state=1, verbose=0, warm_start=False)"
            ]
          },
          "metadata": {},
          "execution_count": 31
        }
      ]
    },
    {
      "cell_type": "markdown",
      "metadata": {
        "id": "yKKrwT_vgtHN"
      },
      "source": [
        "## What's the RMSE of this model on validation?"
      ]
    },
    {
      "cell_type": "code",
      "metadata": {
        "colab": {
          "base_uri": "https://localhost:8080/"
        },
        "id": "HNVotZPAgHG7",
        "outputId": "f68296a3-fc45-4bcc-8944-83331cb05bb9"
      },
      "source": [
        "rf.score(X_val , y_val)"
      ],
      "execution_count": 32,
      "outputs": [
        {
          "output_type": "execute_result",
          "data": {
            "text/plain": [
              "0.5696050395088206"
            ]
          },
          "metadata": {},
          "execution_count": 32
        }
      ]
    },
    {
      "cell_type": "markdown",
      "metadata": {
        "id": "zpyvPq4ehjSW"
      },
      "source": [
        "\n",
        "## Question 3\n",
        "\n",
        "Now let's experiment with the n_estimators parameter\n",
        "\n",
        "  *  Try different values of this parameter from 10 to 200 with step 10\n",
        "  *  Set random_state to 1\n",
        "  *  Evaluate the model on the validation dataset\n",
        "\n"
      ]
    },
    {
      "cell_type": "code",
      "metadata": {
        "id": "c3RsxNuchDu7"
      },
      "source": [
        "values = list(np.arange(10, 210, 10))\n",
        "RMSE = []\n",
        "for value in values:\n",
        "  rf = RandomForestRegressor(n_estimators=value, random_state=1, n_jobs=-1 )\n",
        "  rf.fit(X_train, y_train)\n",
        "  s = rf.score(X_val , y_val)\n",
        "  RMSE.append(round(s,2))"
      ],
      "execution_count": null,
      "outputs": []
    },
    {
      "cell_type": "code",
      "metadata": {
        "colab": {
          "base_uri": "https://localhost:8080/"
        },
        "id": "_6tIhagxifUo",
        "outputId": "ab3cc750-2850-4389-bae1-5ccbccab15a6"
      },
      "source": [
        "RMSE"
      ],
      "execution_count": null,
      "outputs": [
        {
          "output_type": "execute_result",
          "data": {
            "text/plain": [
              "[0.57,\n",
              " 0.59,\n",
              " 0.6,\n",
              " 0.6,\n",
              " 0.6,\n",
              " 0.61,\n",
              " 0.61,\n",
              " 0.61,\n",
              " 0.61,\n",
              " 0.61,\n",
              " 0.61,\n",
              " 0.61,\n",
              " 0.61,\n",
              " 0.61,\n",
              " 0.61,\n",
              " 0.61,\n",
              " 0.61,\n",
              " 0.61,\n",
              " 0.61,\n",
              " 0.61]"
            ]
          },
          "metadata": {},
          "execution_count": 125
        }
      ]
    },
    {
      "cell_type": "markdown",
      "metadata": {
        "id": "qeHDtf1YlKad"
      },
      "source": [
        "\n",
        "\n",
        "## After which value of n_estimators does RMSE stop improving?\n",
        "\n",
        "* 10\n",
        "* 50 (ANS)\n",
        "* 70 \n",
        "* 120\n"
      ]
    },
    {
      "cell_type": "code",
      "metadata": {
        "colab": {
          "base_uri": "https://localhost:8080/"
        },
        "id": "1Sl2Fg0JigXr",
        "outputId": "d6f597bb-1e6f-474a-edfb-2bda232b4335"
      },
      "source": [
        "dict(zip(values, RMSE))"
      ],
      "execution_count": null,
      "outputs": [
        {
          "output_type": "execute_result",
          "data": {
            "text/plain": [
              "{10: 0.57,\n",
              " 20: 0.59,\n",
              " 30: 0.6,\n",
              " 40: 0.6,\n",
              " 50: 0.6,\n",
              " 60: 0.61,\n",
              " 70: 0.61,\n",
              " 80: 0.61,\n",
              " 90: 0.61,\n",
              " 100: 0.61,\n",
              " 110: 0.61,\n",
              " 120: 0.61,\n",
              " 130: 0.61,\n",
              " 140: 0.61,\n",
              " 150: 0.61,\n",
              " 160: 0.61,\n",
              " 170: 0.61,\n",
              " 180: 0.61,\n",
              " 190: 0.61,\n",
              " 200: 0.61}"
            ]
          },
          "metadata": {},
          "execution_count": 127
        }
      ]
    },
    {
      "cell_type": "markdown",
      "metadata": {
        "id": "2TtasgBGqcsM"
      },
      "source": [
        "\n",
        "## Question 4\n",
        "\n",
        "Let's select the best max_depth:\n",
        "\n",
        "* Try different values of max_depth: [10, 15, 20, 25]\n",
        "* For each of these values, try different values of n_estimators * from 10 till 200 (with step 10)\n",
        "* Fix the random seed: random_state=1\n",
        "\n"
      ]
    },
    {
      "cell_type": "code",
      "metadata": {
        "id": "ddiQFMvuqpLI"
      },
      "source": [
        "max_depth_n = [10, 15, 20, 25]\n",
        "values = list(np.arange(10, 210, 10))\n",
        "RMSE = []\n",
        "for i in max_depth_n:\n",
        "  for value in values:\n",
        "    rf = RandomForestRegressor(n_estimators=value, random_state=1, n_jobs=-1 , max_depth = i)\n",
        "    rf.fit(X_train, y_train)\n",
        "    s = rf.score(X_val , y_val)\n",
        "    RMSE.append([ i ,round(s,2) ])"
      ],
      "execution_count": null,
      "outputs": []
    },
    {
      "cell_type": "code",
      "metadata": {
        "id": "pAT557HmvC3r"
      },
      "source": [
        "arr = np.array(RMSE)\n"
      ],
      "execution_count": null,
      "outputs": []
    },
    {
      "cell_type": "code",
      "metadata": {
        "id": "CCEqieSrxArb"
      },
      "source": [
        "result = np.where(arr == np.amin(arr))"
      ],
      "execution_count": null,
      "outputs": []
    },
    {
      "cell_type": "code",
      "metadata": {
        "colab": {
          "base_uri": "https://localhost:8080/"
        },
        "id": "DfPt43w1yuj9",
        "outputId": "af9a4e21-e508-43d4-b910-c1daa8f594f3"
      },
      "source": [
        "result"
      ],
      "execution_count": null,
      "outputs": [
        {
          "output_type": "execute_result",
          "data": {
            "text/plain": [
              "(array([40, 60]), array([1, 1]))"
            ]
          },
          "metadata": {},
          "execution_count": 180
        }
      ]
    },
    {
      "cell_type": "code",
      "metadata": {
        "colab": {
          "base_uri": "https://localhost:8080/"
        },
        "id": "i6CXuYu5ydzD",
        "outputId": "c4ee9749-8127-4316-8cdf-afa1015002ef"
      },
      "source": [
        "arr[40]"
      ],
      "execution_count": null,
      "outputs": [
        {
          "output_type": "execute_result",
          "data": {
            "text/plain": [
              "array([20.  ,  0.57])"
            ]
          },
          "metadata": {},
          "execution_count": 185
        }
      ]
    },
    {
      "cell_type": "code",
      "metadata": {
        "colab": {
          "base_uri": "https://localhost:8080/"
        },
        "id": "du7sivtFwT41",
        "outputId": "8fa43314-dcfd-491d-d6ed-bce90ade585b"
      },
      "source": [
        "dict(zip(values, RMSE))"
      ],
      "execution_count": null,
      "outputs": [
        {
          "output_type": "execute_result",
          "data": {
            "text/plain": [
              "{10.0: 0.61, 15.0: 0.61, 20.0: 0.61, 25.0: 0.61}"
            ]
          },
          "metadata": {},
          "execution_count": 157
        }
      ]
    },
    {
      "cell_type": "markdown",
      "metadata": {
        "id": "D7v79KGNvLxK"
      },
      "source": [
        "What's the best max_depth:\n",
        "\n",
        "* 10\n",
        "* 15\n",
        "* 20 ANS\n",
        "* 25\n"
      ]
    },
    {
      "cell_type": "markdown",
      "metadata": {
        "id": "Q0-q6WJWm_Ky"
      },
      "source": [
        "\n",
        "## Question 5\n",
        "\n",
        "We can extract feature importance information from tree-based models.\n",
        "\n",
        "At each step of the decision tree learning algorith, it finds the best split. When doint it, we can calculate \"gain\" - the reduction in impurity before and after the split. This gain is quite useful in understanding what are the imporatant features for tree-based models.\n",
        "\n",
        "In Scikit-Learn, tree-based models contain this information in the feature_importances_ field.\n",
        "\n",
        "For this homework question, we'll find the most important feature:\n",
        "\n",
        "* Train the model with these parametes:\n",
        "  * n_estimators=10,\n",
        "  * max_depth=20,\n",
        "  *  random_state=1,\n",
        "  * n_jobs=-1 (optional)\n",
        "* Get the feature importance information from this model\n",
        "\n"
      ]
    },
    {
      "cell_type": "code",
      "metadata": {
        "colab": {
          "base_uri": "https://localhost:8080/"
        },
        "id": "bJGJxqbCl9Sf",
        "outputId": "64bd8053-93ef-4abf-d4c8-00f2435c4343"
      },
      "source": [
        "rf = RandomForestRegressor(n_estimators=10,max_depth=20, random_state=1, n_jobs=-1 )\n",
        "rf.fit(X_train, y_train)\n",
        "rf.score(X_val , y_val)"
      ],
      "execution_count": 17,
      "outputs": [
        {
          "output_type": "execute_result",
          "data": {
            "text/plain": [
              "0.5739346608210436"
            ]
          },
          "metadata": {},
          "execution_count": 17
        }
      ]
    },
    {
      "cell_type": "code",
      "metadata": {
        "id": "uvBX-oNQnmyT"
      },
      "source": [
        "importances = rf.feature_importances_"
      ],
      "execution_count": 18,
      "outputs": []
    },
    {
      "cell_type": "code",
      "metadata": {
        "colab": {
          "base_uri": "https://localhost:8080/"
        },
        "id": "LndcriJRocNJ",
        "outputId": "93d6481e-e8ac-4552-e903-d03babf512b9"
      },
      "source": [
        "importances"
      ],
      "execution_count": 19,
      "outputs": [
        {
          "output_type": "execute_result",
          "data": {
            "text/plain": [
              "array([7.65160846e-02, 3.09063525e-02, 1.52053975e-01, 1.53219337e-01,\n",
              "       5.36452300e-02, 2.83822549e-04, 1.16611621e-03, 3.40167443e-02,\n",
              "       1.15324234e-03, 1.18026952e-04, 4.35248857e-02, 5.24379349e-02,\n",
              "       3.91896837e-01, 4.52061759e-03, 4.54079353e-03])"
            ]
          },
          "metadata": {},
          "execution_count": 19
        }
      ]
    },
    {
      "cell_type": "code",
      "metadata": {
        "colab": {
          "base_uri": "https://localhost:8080/",
          "height": 297
        },
        "id": "Cv_f34TOopmM",
        "outputId": "f225f5ad-b1c2-4f7c-e39b-e4b6247ba3d3"
      },
      "source": [
        "forest_importances = pd.Series(importances)\n",
        "\n",
        "fig, ax = plt.subplots()\n",
        "forest_importances.plot.bar(ax=ax)\n",
        "ax.set_title(\"Feature importances using MDI\")\n",
        "ax.set_ylabel(\"Mean decrease in impurity\")\n",
        "fig.tight_layout()"
      ],
      "execution_count": 20,
      "outputs": [
        {
          "output_type": "display_data",
          "data": {
            "image/png": "[encoded data removed]",
            "text/plain": [
              "<Figure size 432x288 with 1 Axes>"
            ]
          },
          "metadata": {
            "needs_background": "light"
          }
        }
      ]
    },
    {
      "cell_type": "markdown",
      "metadata": {
        "id": "t0rS7xWefiBX"
      },
      "source": [
        "What's the most important feature?\n",
        "\n",
        "* neighbourhood_group=Manhattan\n",
        "* room_type=Entire home/apt (ANS)\n",
        "* longitude\n",
        "* latitude\n"
      ]
    },
    {
      "cell_type": "code",
      "metadata": {
        "id": "gOQNhblafnEp"
      },
      "source": [
        ""
      ],
      "execution_count": null,
      "outputs": []
    },
    {
      "cell_type": "markdown",
      "metadata": {
        "id": "qmCdSjmLfzo6"
      },
      "source": [
        "## Question 6\n",
        "Now let's train an XGBoost model! For this question, we'll tune the eta parameter\n",
        "\n",
        "* Install XGBoost\n",
        "* Create DMatrix for train and validation\n",
        "* Create a watchlist\n",
        "* Train a model with these parameters for 100 rounds:\n"
      ]
    },
    {
      "cell_type": "code",
      "metadata": {
        "id": "GvN15OuYf8zv"
      },
      "source": [
        "import xgboost as xgb"
      ],
      "execution_count": 21,
      "outputs": []
    },
    {
      "cell_type": "code",
      "metadata": {
        "id": "zFaJmc5agh8i"
      },
      "source": [
        "dtrain = xgb.DMatrix(X_train, label=y_train, feature_names=dv.feature_names_)\n",
        "dval = xgb.DMatrix(X_val, label=y_val, feature_names=dv.feature_names_)"
      ],
      "execution_count": 22,
      "outputs": []
    },
    {
      "cell_type": "code",
      "metadata": {
        "id": "so0X3mfkgrRO"
      },
      "source": [
        "\n",
        "\n",
        "watchlist = [(dtrain, 'train'), (dval, 'val')]\n",
        "\n"
      ],
      "execution_count": 23,
      "outputs": []
    },
    {
      "cell_type": "code",
      "metadata": {
        "id": "XKmLMyUTg0EA"
      },
      "source": [
        "xgb_params = {\n",
        "    'eta': 0.3, \n",
        "    'max_depth': 6,\n",
        "    'min_child_weight': 1,\n",
        "    \n",
        "    'objective': 'reg:squarederror',\n",
        "    'nthread': 8,\n",
        "    \n",
        "    'seed': 1,\n",
        "    'verbosity': 1,\n",
        "}"
      ],
      "execution_count": 24,
      "outputs": []
    },
    {
      "cell_type": "code",
      "metadata": {
        "colab": {
          "base_uri": "https://localhost:8080/"
        },
        "id": "kpndkjF7g4eq",
        "outputId": "5cb64657-fd00-4339-f32e-f83fc4ae3199"
      },
      "source": [
        "model = xgb.train(xgb_params, dtrain,\n",
        "                  num_boost_round=100,\n",
        "                  evals=watchlist, verbose_eval=10)"
      ],
      "execution_count": 26,
      "outputs": [
        {
          "output_type": "stream",
          "name": "stdout",
          "text": [
            "[0]\ttrain-rmse:3.02752\tval-rmse:3.02415\n",
            "[10]\ttrain-rmse:0.439151\tval-rmse:0.449813\n",
            "[20]\ttrain-rmse:0.417245\tval-rmse:0.437226\n",
            "[30]\ttrain-rmse:0.407563\tval-rmse:0.435124\n",
            "[40]\ttrain-rmse:0.401326\tval-rmse:0.434602\n",
            "[50]\ttrain-rmse:0.395527\tval-rmse:0.433357\n",
            "[60]\ttrain-rmse:0.388646\tval-rmse:0.43327\n",
            "[70]\ttrain-rmse:0.380675\tval-rmse:0.432784\n",
            "[80]\ttrain-rmse:0.374531\tval-rmse:0.432804\n",
            "[90]\ttrain-rmse:0.370312\tval-rmse:0.433563\n",
            "[99]\ttrain-rmse:0.36437\tval-rmse:0.434066\n"
          ]
        }
      ]
    },
    {
      "cell_type": "code",
      "metadata": {
        "colab": {
          "base_uri": "https://localhost:8080/"
        },
        "id": "0bK1C8zlhBpn",
        "outputId": "0bfa7d5f-b970-40b9-d0f3-9f159b5dc912"
      },
      "source": [
        "xgb_params = {\n",
        "    'eta': 0.1, \n",
        "    'max_depth': 6,\n",
        "    'min_child_weight': 1,\n",
        "    \n",
        "    'objective': 'reg:squarederror',\n",
        "    'nthread': 8,\n",
        "    \n",
        "    'seed': 1,\n",
        "    'verbosity': 1,\n",
        "}\n",
        "\n",
        "model = xgb.train(xgb_params, dtrain,\n",
        "                  num_boost_round=100,\n",
        "                  evals=watchlist, verbose_eval=10)"
      ],
      "execution_count": 27,
      "outputs": [
        {
          "output_type": "stream",
          "name": "stdout",
          "text": [
            "[0]\ttrain-rmse:3.87217\tval-rmse:3.86889\n",
            "[10]\ttrain-rmse:1.41919\tval-rmse:1.41798\n",
            "[20]\ttrain-rmse:0.645011\tval-rmse:0.648887\n",
            "[30]\ttrain-rmse:0.461519\tval-rmse:0.471089\n",
            "[40]\ttrain-rmse:0.427864\tval-rmse:0.44178\n",
            "[50]\ttrain-rmse:0.418963\tval-rmse:0.436207\n",
            "[60]\ttrain-rmse:0.414688\tval-rmse:0.434822\n",
            "[70]\ttrain-rmse:0.410824\tval-rmse:0.433942\n",
            "[80]\ttrain-rmse:0.407816\tval-rmse:0.433406\n",
            "[90]\ttrain-rmse:0.405447\tval-rmse:0.432963\n",
            "[99]\ttrain-rmse:0.404032\tval-rmse:0.432873\n"
          ]
        }
      ]
    },
    {
      "cell_type": "code",
      "metadata": {
        "colab": {
          "base_uri": "https://localhost:8080/"
        },
        "id": "Ftl286sShzv6",
        "outputId": "4c9b664e-2f68-4df8-873b-5ce9065481d9"
      },
      "source": [
        "xgb_params = {\n",
        "    'eta': 0.01, \n",
        "    'max_depth': 6,\n",
        "    'min_child_weight': 1,\n",
        "    \n",
        "    'objective': 'reg:squarederror',\n",
        "    'nthread': 8,\n",
        "    \n",
        "    'seed': 1,\n",
        "    'verbosity': 1,\n",
        "}\n",
        "\n",
        "model = xgb.train(xgb_params, dtrain,\n",
        "                  num_boost_round=100,\n",
        "                  evals=watchlist, verbose_eval=10)"
      ],
      "execution_count": 28,
      "outputs": [
        {
          "output_type": "stream",
          "name": "stdout",
          "text": [
            "[0]\ttrain-rmse:4.25336\tval-rmse:4.2501\n",
            "[10]\ttrain-rmse:3.85242\tval-rmse:3.84922\n",
            "[20]\ttrain-rmse:3.4903\tval-rmse:3.48718\n",
            "[30]\ttrain-rmse:3.16332\tval-rmse:3.16027\n",
            "[40]\ttrain-rmse:2.86817\tval-rmse:2.86532\n",
            "[50]\ttrain-rmse:2.60185\tval-rmse:2.59924\n",
            "[60]\ttrain-rmse:2.36167\tval-rmse:2.35927\n",
            "[70]\ttrain-rmse:2.14519\tval-rmse:2.14303\n",
            "[80]\ttrain-rmse:1.95021\tval-rmse:1.94831\n",
            "[90]\ttrain-rmse:1.77473\tval-rmse:1.77307\n",
            "[99]\ttrain-rmse:1.63197\tval-rmse:1.63049\n"
          ]
        }
      ]
    },
    {
      "cell_type": "markdown",
      "metadata": {
        "id": "GvfXs-syha2b"
      },
      "source": [
        "\n",
        "\n",
        "Now change eta first to `0.1` and then to `0.01`\n",
        "\n",
        "Which eta leads to the best RMSE score on the validation dataset?\n",
        "\n",
        "* 0.3\n",
        "* 0.1 (ANS)\n",
        "* 0.01\n"
      ]
    },
    {
      "cell_type": "code",
      "metadata": {
        "id": "O5NuJCxXhkB5"
      },
      "source": [
        ""
      ],
      "execution_count": null,
      "outputs": []
    }
  ]
}